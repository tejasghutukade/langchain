{
 "cells": [
  {
   "cell_type": "code",
   "execution_count": null,
   "metadata": {},
   "outputs": [],
   "source": [
    "!pip install langchain langchain-core langchain-community langchainhub"
   ]
  },
  {
   "cell_type": "code",
   "execution_count": null,
   "metadata": {},
   "outputs": [],
   "source": [
    "from langchain.tools import tool\n",
    "import requests\n",
    "import os\n",
    "\n",
    "@tool\n",
    "def lookup_domain_availability(domain: str) -> str:\n",
    "    \"\"\"This tool takes in one domain name as input. \n",
    "    Looks up if domain is registerd at a registrar or not. \n",
    "    If its registered the response output will mention the registrar name or else the output will be `available`.\"\"\"    \n",
    "    api_url = 'https://api.api-ninjas.com/v1/whois?domain={}'.format(domain)\n",
    "    response = requests.get(api_url, headers={'X-Api-Key': os.environ['API_NINJAS_API_KEY']})\n",
    "    if response.status_code == requests.codes.ok:\n",
    "        response_json = response.json()\n",
    "        if response_json:\n",
    "            if 'registrar' in response_json:\n",
    "                return str(f\" ***The domain {domain} is already registered at the registrar : {response_json['registrar']} . It is not available for purchase*** \") \n",
    "                  \n",
    "    return str(f\" ***The domain {domain} is available for purchase*** \")\n",
    "    \n",
    "\n",
    "@tool\n",
    "def purchase_domain(domain:str) -> str:\n",
    "    \"\"\"This tool takes one domain name and registers it on behalf of the customer\"\"\"\n",
    "\n",
    "    return str(f\" ***Domain {domain} has been purchased successfully*** \")"
   ]
  },
  {
   "cell_type": "code",
   "execution_count": null,
   "metadata": {},
   "outputs": [],
   "source": [
    "lookup_domain_availability.run(\"google.com\")"
   ]
  },
  {
   "cell_type": "code",
   "execution_count": null,
   "metadata": {},
   "outputs": [],
   "source": [
    "tools = [lookup_domain_availability,purchase_domain]"
   ]
  },
  {
   "cell_type": "code",
   "execution_count": null,
   "metadata": {},
   "outputs": [],
   "source": [
    "from langchain_experimental.llms.ollama_functions import OllamaFunctions,convert_to_ollama_tool\n",
    "\n",
    "converted_tools = [convert_to_ollama_tool(tool) for tool in tools]"
   ]
  },
  {
   "cell_type": "code",
   "execution_count": null,
   "metadata": {},
   "outputs": [],
   "source": [
    "from langchain_openai import ChatOpenAI\n",
    "llm_openai_ollama = ChatOpenAI(\n",
    "    api_key=\"ollama\",\n",
    "    model=\"llama3:70b\",\n",
    "    base_url=\"https://4nsswzlwu2gg6n-11434.proxy.runpod.net/v1\",\n",
    ")\n"
   ]
  },
  {
   "cell_type": "code",
   "execution_count": null,
   "metadata": {},
   "outputs": [],
   "source": [
    "llm_openai_ollama = llm_openai_ollama.bind_tools(converted_tools)"
   ]
  },
  {
   "cell_type": "code",
   "execution_count": null,
   "metadata": {},
   "outputs": [],
   "source": [
    "from langchain.agents import AgentExecutor, create_react_agent\n",
    "from langchain import hub\n",
    "\n",
    "prompt = hub.pull(\"hwchase17/react\")\n",
    "agent = create_react_agent(llm_openai_ollama, tools, prompt)\n",
    "agent_executor = AgentExecutor(agent=agent, tools=tools, verbose=True,handle_parsing_errors=True)"
   ]
  },
  {
   "cell_type": "code",
   "execution_count": null,
   "metadata": {},
   "outputs": [],
   "source": [
    "agent_executor.invoke({\"input\":\" Suggest 2 domain names for my pizza and burger restaurant business and let me know if they are available for purchase ?\"})"
   ]
  },
  {
   "cell_type": "code",
   "execution_count": null,
   "metadata": {},
   "outputs": [],
   "source": [
    "agent_executor.invoke({\"input\":\" Please purchase pizzaburgerlove.com and let me know if purchase was successfull ?\"})"
   ]
  },
  {
   "cell_type": "code",
   "execution_count": null,
   "metadata": {},
   "outputs": [],
   "source": [
    "agent_executor.invoke({\"input\":\" Please suggest a domain name for my IT services company . do not buy it ?\"})"
   ]
  },
  {
   "cell_type": "code",
   "execution_count": null,
   "metadata": {},
   "outputs": [],
   "source": [
    "agent_executor.invoke({\"input\":\" Please suggest 3 domain names for my IT services company. do not check their availability and do not buy them. \"})"
   ]
  }
 ],
 "metadata": {
  "language_info": {
   "name": "python"
  }
 },
 "nbformat": 4,
 "nbformat_minor": 2
}
